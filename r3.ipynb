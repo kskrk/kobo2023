{
 "cells": [
  {
   "cell_type": "markdown",
   "id": "6544a547-1617-4359-8314-3c352a742a9a",
   "metadata": {},
   "source": [
    "2210241 上坂力輝 情報工学工房 第3回課題"
   ]
  },
  {
   "cell_type": "code",
   "execution_count": 1,
   "id": "e34e2606-f7b0-4946-88b6-9dab317329e0",
   "metadata": {},
   "outputs": [],
   "source": [
    "import numpy as num\n",
    "import sys,os\n",
    "sys.path.append(os.pardir)\n",
    "from common.layers import *\n",
    "from common.gradient import numerical_gradient\n",
    "from collections import OrderedDict\n",
    "from dataset.mnist import load_mnist\n",
    "#os.environ['HTTP_PROXY']=\"http://proxy.uec.ac.jp:8080\"\n",
    "#os.environ['HTTPS_PROXY']=\"http://proxy.uec.ac.jp:8080\""
   ]
  },
  {
   "cell_type": "markdown",
   "id": "10e595e4-bc85-4411-8285-f0d5611fc0ad",
   "metadata": {},
   "source": [
    "1.Softmax with lossレイヤーを実装する"
   ]
  },
  {
   "cell_type": "code",
   "execution_count": 2,
   "id": "50746356-831d-4a4e-bc9c-c399b732e521",
   "metadata": {},
   "outputs": [],
   "source": [
    "#softmaxの実装\n",
    "def softmax(x):\n",
    "    #x:入力データ\n",
    "    exp_x = np.exp(x)\n",
    "    sum_exp_x = sum(exp_x)\n",
    "    y = exp_x / sum_exp_x\n",
    "    return y\n",
    "\n",
    "#closs_entropy_errorの実装\n",
    "def closs_entropy_error(y,t):\n",
    "    #y:出力データ,t:教師データ\n",
    "    if y.ndim == 1:\n",
    "        t = t.reshape(1,t.size)\n",
    "        y = y.reshape(1,y.size)\n",
    "        \n",
    "    batch_size = y.shape[0]\n",
    "    return -np.sum(np.log(y[np.arange(batch_size),t])) / batch_size"
   ]
  },
  {
   "cell_type": "code",
   "execution_count": 3,
   "id": "2fb7122f-3256-4d8a-95b3-cccd1f7bbb5a",
   "metadata": {},
   "outputs": [],
   "source": [
    "#Softmax_with_loss レイヤーの実装\n",
    "class SofttmaxWithLoss:\n",
    "    def __init__(self):\n",
    "        self.loss = None #損失\n",
    "        self.y = None    #softmaxの出力\n",
    "        self.t = None    #教師データ\n",
    "        \n",
    "    def forward(self,x,t):\n",
    "        self.t = t\n",
    "        self.y = softmax(x)\n",
    "        self.loss = closs_entropy_error(self.y,self.t)\n",
    "        return self.loss\n",
    "    \n",
    "    def backward(self,dout=1):\n",
    "        batch_size = self.t.shape[0]\n",
    "        dx = (self.y - self.t) / batch_size\n",
    "        return dx"
   ]
  },
  {
   "cell_type": "markdown",
   "id": "0fb30cdb-903e-4a53-830b-9e2bb6811c78",
   "metadata": {},
   "source": [
    "2.Two layer netにおける勾配の確認"
   ]
  },
  {
   "cell_type": "code",
   "execution_count": 6,
   "id": "85239150-109f-4ecc-8d29-65a205a04ec7",
   "metadata": {},
   "outputs": [],
   "source": [
    "#Two layer net\n",
    "class TwoLayerNet:\n",
    "    def __init__(self,input_size,hidden_size,output_size,weight_init_std=0.01):\n",
    "        #重みの初期化\n",
    "        self.params = {}\n",
    "        self.params['W1'] = weight_init_std * np.random.randn(input_size,hidden_size)\n",
    "        self.params['b1'] = np.zeros(hidden_size) \n",
    "        self.params['W2'] = weight_init_std * np.random.randn(hidden_size,output_size)\n",
    "        self.params['b2'] = np.zeros(output_size)\n",
    "        \n",
    "        #レイヤの生成\n",
    "        self.layers = OrderedDict()\n",
    "        self.layers['Affine1'] = Affine(self.params['W1'],self.params['b1'])\n",
    "        self.layers['Relu1'] = Relu()\n",
    "        self.layers['Affine2'] = Affine(self.params['W2'],self.params['b2'])\n",
    "        \n",
    "        self.lastLayer = SoftmaxWithLoss()\n",
    "        \n",
    "    def predict(self,x):\n",
    "        for layer in self.layers.values():\n",
    "            x = layer.forward(x)\n",
    "            \n",
    "        return x\n",
    "    \n",
    "    #x:入力,t:教師\n",
    "    def loss(self,x,t):\n",
    "        y = self.predict(x)\n",
    "        \n",
    "        return self.lastLayer.forward(y,t)\n",
    "    \n",
    "    def accuracy(self,x,t):\n",
    "        y = self.predict(x)\n",
    "        y = np.argmax(y,axis=1)\n",
    "        if t.ndim != 1:t = np.argmax(t,axis=1)\n",
    "        \n",
    "        accuracy = np.sum(y == t) / float(x.shape[0])\n",
    "        return accuracy\n",
    "    \n",
    "    def numerical_gradient(self,x,t):\n",
    "        loss_W = lambda W: self.loss(x,t)\n",
    "        \n",
    "        grads = {}\n",
    "        \n",
    "        grads['W1'] = numerical_gradient(loss_W,self.params['W1'])\n",
    "        grads['b1'] = numerical_gradient(loss_W,self.params['b1'])        \n",
    "        grads['W2'] = numerical_gradient(loss_W,self.params['W2'])      \n",
    "        grads['b2'] = numerical_gradient(loss_W,self.params['b2'])\n",
    "        \n",
    "        return grads\n",
    "    \n",
    "    def gradient(self,x,t):\n",
    "        #forward\n",
    "        self.loss(x,t)\n",
    "        \n",
    "        #backward\n",
    "        dout = 1\n",
    "        dout = self.lastLayer.backward(dout)\n",
    "        \n",
    "        layers = list(self.layers.values())\n",
    "        layers.reverse()\n",
    "        for layer in layers:\n",
    "            dout = layer.backward(dout)\n",
    "            \n",
    "        #設定\n",
    "        grads = {}\n",
    "        grads['W1'] = self.layers['Affine1'].dW\n",
    "        grads['b1'] = self.layers['Affine1'].db\n",
    "        grads['W2'] = self.layers['Affine2'].dW\n",
    "        grads['b2'] = self.layers['Affine2'].db\n",
    "        \n",
    "        return grads"
   ]
  },
  {
   "cell_type": "code",
   "execution_count": 7,
   "id": "3dacb528-de4a-4da6-845e-855cd200df4b",
   "metadata": {},
   "outputs": [
    {
     "name": "stdout",
     "output_type": "stream",
     "text": [
      "W1:4.785245830260185e-10\n",
      "b1:2.9293192807511822e-09\n",
      "W2:6.450463716742543e-09\n",
      "b2:1.3963579606618426e-07\n"
     ]
    }
   ],
   "source": [
    "#勾配の確認\n",
    "(x_train, t_train), (x_test, t_test) = load_mnist(normalize=True, one_hot_label=True)\n",
    "network = TwoLayerNet(input_size=784, hidden_size=50, output_size=10)\n",
    "x_batch = x_train[:3]\n",
    "t_batch = t_train[:3]\n",
    "\n",
    "# 数値微分\n",
    "grad_numerical = network.numerical_gradient(x_batch, t_batch)\n",
    "\n",
    "# Backward\n",
    "grad_numerical = network.numerical_gradient(x_batch,t_batch)\n",
    "grad_backprop = network.gradient(x_batch,t_batch)\n",
    "\n",
    "#各重みの絶対誤差の平均を求める\n",
    "for key in grad_numerical.keys():\n",
    "   diff = np.average( np.abs(grad_backprop[key] - grad_numerical[key]) )\n",
    "   print(key + \":\" + str(diff))"
   ]
  },
  {
   "cell_type": "markdown",
   "id": "4665e815-f037-463c-ae9d-17966b6e64dd",
   "metadata": {},
   "source": [
    "Two layer netの学習をする"
   ]
  },
  {
   "cell_type": "code",
   "execution_count": 10,
   "id": "28008e1f-4b07-4c55-83e4-47b407740b27",
   "metadata": {},
   "outputs": [
    {
     "name": "stdout",
     "output_type": "stream",
     "text": [
      "0.13056666666666666 0.1349\n",
      "0.9032333333333333 0.9054\n",
      "0.9252 0.9275\n",
      "0.9384 0.9388\n",
      "0.9471833333333334 0.946\n",
      "0.9551333333333333 0.9516\n",
      "0.9595333333333333 0.9565\n",
      "0.9629666666666666 0.9612\n",
      "0.9665833333333333 0.9617\n",
      "0.9653166666666667 0.9616\n",
      "0.9714 0.9647\n",
      "0.9727333333333333 0.9667\n",
      "0.9744166666666667 0.968\n",
      "0.97565 0.9687\n",
      "0.9768166666666667 0.9697\n",
      "0.97915 0.9704\n",
      "0.9799666666666667 0.9696\n"
     ]
    }
   ],
   "source": [
    "(x_train, t_train), (x_test, t_test) = load_mnist(normalize=True, one_hot_label=True)\n",
    "network = TwoLayerNet(input_size=784, hidden_size=50, output_size=10)\n",
    "\n",
    "iters_num = 10000\n",
    "train_size = x_train.shape[0]\n",
    "batch_size = 100\n",
    "learning_rate = 0.1\n",
    "\n",
    "train_loss_list = []\n",
    "train_acc_list = []\n",
    "test_acc_list = []\n",
    "\n",
    "iter_per_epoch = max(train_size / batch_size, 1)\n",
    "\n",
    "for i in range(iters_num):\n",
    "   batch_mask = np.random.choice(train_size, batch_size)\n",
    "   x_batch = x_train[batch_mask]\n",
    "   t_batch = t_train[batch_mask]\n",
    "\n",
    "   # 勾配\n",
    "   grad = TwoLayerNet.gradient(network, x_batch, t_batch)\n",
    "\n",
    "   # 更新\n",
    "   for key in ('W1', 'b1', 'W2', 'b2'):\n",
    "       network.params[key] -= learning_rate * grad[key]\n",
    "        \n",
    "   loss = network.loss(x_batch, t_batch)\n",
    "   train_loss_list.append(loss)\n",
    "   if i % iter_per_epoch == 0:\n",
    "       train_acc = network.accuracy(x_train, t_train)\n",
    "       test_acc = network.accuracy(x_test, t_test)\n",
    "       train_acc_list.append(train_acc)\n",
    "       test_acc_list.append(test_acc)\n",
    "       print(train_acc, test_acc)"
   ]
  },
  {
   "cell_type": "markdown",
   "id": "ac797c57-d56f-4fdd-9116-d160fd1a910c",
   "metadata": {},
   "source": [
    "感想\n",
    "\n",
    "計算グラフを用いた誤差逆伝播では、ノードとエッジを使うだけなので複雑な計算を局所的に簡単に考えられることが分かった。また各計算結果を保持することで逆伝播しやすいということも分かった。"
   ]
  },
  {
   "cell_type": "markdown",
   "id": "87af8d35-9e9f-42ee-a3e9-fd6ee3a6a550",
   "metadata": {},
   "source": [
    "参考文献\n",
    "\n",
    "斎藤 康毅,ゼロから作るDeep Learning―Pythonで学ぶディープラーニングの理論と実装,2016年09月,オライリージャパン,https://www.oreilly.co.jp/books/9784873117584/"
   ]
  },
  {
   "cell_type": "code",
   "execution_count": null,
   "id": "80bc1f92-4fc3-4f5b-9fb1-0dda4b1a9172",
   "metadata": {},
   "outputs": [],
   "source": []
  }
 ],
 "metadata": {
  "kernelspec": {
   "display_name": "Python 3 (ipykernel)",
   "language": "python",
   "name": "python3"
  },
  "language_info": {
   "codemirror_mode": {
    "name": "ipython",
    "version": 3
   },
   "file_extension": ".py",
   "mimetype": "text/x-python",
   "name": "python",
   "nbconvert_exporter": "python",
   "pygments_lexer": "ipython3",
   "version": "3.9.16"
  }
 },
 "nbformat": 4,
 "nbformat_minor": 5
}

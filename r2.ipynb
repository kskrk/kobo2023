{
 "cells": [
  {
   "cell_type": "markdown",
   "id": "f63fbe8c-9475-4bdb-8028-7124375804eb",
   "metadata": {},
   "source": [
    "2210241 上坂力輝　情報工学工房　第2回課題"
   ]
  },
  {
   "cell_type": "markdown",
   "id": "c4476167-9bbb-4800-aaa6-d42b2049e413",
   "metadata": {},
   "source": [
    "1.2層ニューラルネットワークの学習を試してみましょう。"
   ]
  },
  {
   "cell_type": "code",
   "execution_count": 15,
   "id": "dc63266e-488b-4bca-b0c7-a63432df536d",
   "metadata": {},
   "outputs": [],
   "source": [
    "import numpy as np\n",
    "import matplotlib.pyplot as plt\n",
    "import sys,os\n",
    "sys.path.append(os.pardir)"
   ]
  },
  {
   "cell_type": "code",
   "execution_count": 16,
   "id": "415328e1-ed63-4ec4-b2c7-9755476a6b6d",
   "metadata": {},
   "outputs": [],
   "source": [
    "from common.functions import *\n",
    "from common.gradient import numerical_gradient\n",
    "from dataset.mnist import load_mnist"
   ]
  },
  {
   "cell_type": "code",
   "execution_count": 17,
   "id": "d3e88b4f-cedc-4f04-a29f-84c1a5b23044",
   "metadata": {},
   "outputs": [],
   "source": [
    "class TwoLayerNet:\n",
    "    def __init__(self,input_size,hidden_size,output_size,weight_init_std=0.01):\n",
    "        #重みの初期化\n",
    "        self.params = {}\n",
    "        self.params['W1'] = weight_init_std * np.random.randn(input_size,hidden_size)\n",
    "        self.params['b1'] = np.zeros(hidden_size) \n",
    "        self.params['W2'] = weight_init_std * np.random.randn(hidden_size,output_size)\n",
    "        self.params['b2'] = np.zeros(output_size)\n",
    "        \n",
    "    def predict(self,x):\n",
    "        W1,W2 = self.params['W1'],self.params['W2']\n",
    "        b1,b2 = self.params['b1'],self.params['b2']\n",
    "        \n",
    "        a1 = np.dot(x,W1) + b1\n",
    "        z1 = sigmoid(a1)\n",
    "        a2 = np.dot(z1,W2) + b2\n",
    "        y = softmax(a2)\n",
    "        \n",
    "        return y\n",
    "    \n",
    "    #x:入力,t:教師\n",
    "    def loss(self,x,t):\n",
    "        y = self.predict(x)\n",
    "        \n",
    "        return cross_entropy_error(y,t)\n",
    "    \n",
    "    def accuracy(self,x,t):\n",
    "        y = self.predict(x)\n",
    "        y = np.argmax(y,axis=1)\n",
    "        t = np.argmax(t,axis=1)\n",
    "        \n",
    "        accuracy = np.sum(y == t) / float(x.shape[0])\n",
    "        return accuracy\n",
    "    \n",
    "    def numerical_gradient(self,x,t):\n",
    "        loss_W = lambda W: self.loss(x,t)\n",
    "        \n",
    "        grads = {}\n",
    "        \n",
    "        grads['W1'] = numerical_gradient(loss_W,self.params['W1'])\n",
    "        grads['b1'] = numerical_gradient(loss_W,self.params['b1'])        \n",
    "        grads['W2'] = numerical_gradient(loss_W,self.params['W2'])      \n",
    "        grads['b2'] = numerical_gradient(loss_W,self.params['b2'])\n",
    "        \n",
    "        return grads"
   ]
  },
  {
   "cell_type": "code",
   "execution_count": 19,
   "id": "e13df41e-5765-4316-8ef4-8c3968649439",
   "metadata": {},
   "outputs": [
    {
     "name": "stdout",
     "output_type": "stream",
     "text": [
      "train acc, test acc | 0.054816666666666666, 0.0559\n"
     ]
    },
    {
     "data": {
      "image/png": "[encoded data removed]",
      "text/plain": [
       "<Figure size 640x480 with 1 Axes>"
      ]
     },
     "metadata": {},
     "output_type": "display_data"
    }
   ],
   "source": [
    "# データの読み込み\n",
    "(x_train, t_train), (x_test, t_test) = load_mnist(normalize=True, one_hot_label=True) \n",
    "\n",
    "train_loss_init = []\n",
    "train_acc_list = []\n",
    "test_acc_list = []\n",
    "#1エポック当たりの繰り返し数\n",
    "iter_per_epoch = max(train_size / batch_size,1)\n",
    "\n",
    "#ハイパーパラメータ\n",
    "iters_num = 10\n",
    "train_size = x_train.shape[0]\n",
    "batch_size = 100\n",
    "learning_rate = 0.1\n",
    "\n",
    "network = TwoLayerNet(input_size=784,hidden_size=50,output_size=10)\n",
    "\n",
    "for i in range(iters_num):\n",
    "    #ミニバッチ\n",
    "    batch_mask = np.random.choice(train_size,batch_size)\n",
    "    x_batch = x_train[batch_mask]\n",
    "    t_batch = t_train[batch_mask]\n",
    "    \n",
    "    #勾配\n",
    "    grad = network.numerical_gradient(x_batch,t_batch)\n",
    "    \n",
    "    #パラメータの更新\n",
    "    for key in ('W1','b1','W2','b2'):\n",
    "        network.params[key] -= learning_rate * grad[key]\n",
    "        \n",
    "    #学習結果の記録\n",
    "        loss = network.loss(x_batch, t_batch)\n",
    "    train_loss_list.append(loss)\n",
    "    \n",
    "    if i % iter_per_epoch == 0:\n",
    "        train_acc = network.accuracy(x_train, t_train)\n",
    "        test_acc = network.accuracy(x_test, t_test)\n",
    "        train_acc_list.append(train_acc)\n",
    "        test_acc_list.append(test_acc)\n",
    "        print(\"train acc, test acc | \" + str(train_acc) + \", \" + str(test_acc))\n",
    "\n",
    "# グラフの描画\n",
    "markers = {'train': 'o', 'test': 's'}\n",
    "x = np.arange(len(train_acc_list))\n",
    "plt.plot(x, train_acc_list, label='train acc')\n",
    "plt.plot(x, test_acc_list, label='test acc', linestyle='--')\n",
    "plt.xlabel(\"epochs\")\n",
    "plt.ylabel(\"accuracy\")\n",
    "plt.ylim(0, 1.0)\n",
    "plt.legend(loc='lower right')\n",
    "plt.show()"
   ]
  },
  {
   "cell_type": "markdown",
   "id": "675175b2-4517-4f80-8cc6-ced353647cdc",
   "metadata": {},
   "source": [
    "感想\n",
    "\n",
    "ニューラルネットワークの学習が重みなどのパラメータを自動で獲得させることだということが分かった。そのために損失関数を導入して、あるパラメータの損失関数に対する微分からパラメータを大きくするべきか、小さくするべきかの判断を行い、すべてのパラメータの損失関数に対する偏微分をベクトルとしてまとめたものを勾配と呼び、勾配の指す方向へパラメータを調整することで損失関数を小さくできると分かった。実装ではミニバッチを作り、ミニバッチの損失関数を小さくするために勾配を用いてパラメータを調整する、これの繰り返しでパラメータが自動で調整できると分かった。パラメータを自動で調整できるが、バッチの大きさや学習率などは手動で調整しているがこれを自動で調整する方法はないのかと気になった。"
   ]
  },
  {
   "cell_type": "markdown",
   "id": "f38f53cc-686e-4400-ad67-7f67e32b7a5f",
   "metadata": {},
   "source": [
    "参考文献\n",
    "\n",
    "斎藤 康毅,ゼロから作るDeep Learning―Pythonで学ぶディープラーニングの理論と実装,2016年09月,オライリージャパン,https://www.oreilly.co.jp/books/9784873117584/"
   ]
  }
 ],
 "metadata": {
  "kernelspec": {
   "display_name": "Python 3 (ipykernel)",
   "language": "python",
   "name": "python3"
  },
  "language_info": {
   "codemirror_mode": {
    "name": "ipython",
    "version": 3
   },
   "file_extension": ".py",
   "mimetype": "text/x-python",
   "name": "python",
   "nbconvert_exporter": "python",
   "pygments_lexer": "ipython3",
   "version": "3.9.16"
  }
 },
 "nbformat": 4,
 "nbformat_minor": 5
}

{
 "cells": [
  {
   "cell_type": "markdown",
   "id": "30e0075d-4b73-41d8-85c0-8458c165136a",
   "metadata": {},
   "source": [
    "2210241 上坂力輝　情報工学工房第一回課題"
   ]
  },
  {
   "cell_type": "code",
   "execution_count": 2,
   "id": "83b7e5dc-22e3-4013-a9a1-8fd5f3b8260d",
   "metadata": {},
   "outputs": [],
   "source": [
    "import numpy as np\n",
    "import matplotlib.pylab as plt"
   ]
  },
  {
   "cell_type": "markdown",
   "id": "167b240f-2b70-41ca-924b-411e1dcefb15",
   "metadata": {},
   "source": [
    "1.AND回路，NAND回路，OR回路を単純パーセプトロンにより表現する関数を実装し，真理値表通り，出力されるか確認して下さい．\n",
    "関数名は各々，AND(x1, x2), NAND(x1, x2), OR(x1, x2)として，1か０を引数に取れるようにして下さい．"
   ]
  },
  {
   "cell_type": "code",
   "execution_count": 3,
   "id": "aec00a7b-46df-43ff-a86b-2a1e93148c3c",
   "metadata": {},
   "outputs": [],
   "source": [
    "def AND(x1,x2):\n",
    "    x = np.array([x1,x2])\n",
    "    w = np.array([0.5,0.5])\n",
    "    b = -0.7\n",
    "    y = np.sum(x*w) + b\n",
    "    if y >= 0:\n",
    "        return 1\n",
    "    else:\n",
    "        return 0"
   ]
  },
  {
   "cell_type": "code",
   "execution_count": 4,
   "id": "c61f2de0-1e9e-4ca1-a2f2-f2c71f549954",
   "metadata": {},
   "outputs": [
    {
     "data": {
      "text/plain": [
       "0"
      ]
     },
     "execution_count": 4,
     "metadata": {},
     "output_type": "execute_result"
    }
   ],
   "source": [
    "AND(0,0)"
   ]
  },
  {
   "cell_type": "code",
   "execution_count": 5,
   "id": "7c00b89f-01bf-4da6-bbd6-207753ba1a6d",
   "metadata": {},
   "outputs": [
    {
     "data": {
      "text/plain": [
       "0"
      ]
     },
     "execution_count": 5,
     "metadata": {},
     "output_type": "execute_result"
    }
   ],
   "source": [
    "AND(1,0)"
   ]
  },
  {
   "cell_type": "code",
   "execution_count": 6,
   "id": "66b9e15e-20b3-4063-9a35-feb3f14ae132",
   "metadata": {},
   "outputs": [
    {
     "data": {
      "text/plain": [
       "0"
      ]
     },
     "execution_count": 6,
     "metadata": {},
     "output_type": "execute_result"
    }
   ],
   "source": [
    "AND(0,1)"
   ]
  },
  {
   "cell_type": "code",
   "execution_count": 7,
   "id": "62907810-31ff-44b6-a5c0-f9be852e74a8",
   "metadata": {},
   "outputs": [
    {
     "data": {
      "text/plain": [
       "1"
      ]
     },
     "execution_count": 7,
     "metadata": {},
     "output_type": "execute_result"
    }
   ],
   "source": [
    "AND(1,1)"
   ]
  },
  {
   "cell_type": "code",
   "execution_count": 8,
   "id": "c975bc80-7cda-452d-b9d7-c624056bd9e8",
   "metadata": {},
   "outputs": [],
   "source": [
    "def NAND(x1,x2):\n",
    "    x = np.array([x1,x2])\n",
    "    w = np.array([-0.5,-0.5])\n",
    "    b = 0.7\n",
    "    y = np.sum(x*w) + b\n",
    "    if y >= 0:\n",
    "        return 1\n",
    "    else:\n",
    "        return 0"
   ]
  },
  {
   "cell_type": "code",
   "execution_count": 9,
   "id": "a122d5c3-1cd8-4fa9-b963-d1ca11f574d9",
   "metadata": {},
   "outputs": [
    {
     "data": {
      "text/plain": [
       "1"
      ]
     },
     "execution_count": 9,
     "metadata": {},
     "output_type": "execute_result"
    }
   ],
   "source": [
    "NAND(0,0)"
   ]
  },
  {
   "cell_type": "code",
   "execution_count": 10,
   "id": "460182cd-d202-4e56-839b-0d53e736fea4",
   "metadata": {},
   "outputs": [
    {
     "data": {
      "text/plain": [
       "1"
      ]
     },
     "execution_count": 10,
     "metadata": {},
     "output_type": "execute_result"
    }
   ],
   "source": [
    "NAND(1,0)"
   ]
  },
  {
   "cell_type": "code",
   "execution_count": 11,
   "id": "abb79bf8-4e6a-4b95-86e8-2662bd0684ed",
   "metadata": {},
   "outputs": [
    {
     "data": {
      "text/plain": [
       "1"
      ]
     },
     "execution_count": 11,
     "metadata": {},
     "output_type": "execute_result"
    }
   ],
   "source": [
    "NAND(1,0)"
   ]
  },
  {
   "cell_type": "code",
   "execution_count": 12,
   "id": "247c4d63-1a3a-485e-8015-146a6c538dc3",
   "metadata": {},
   "outputs": [
    {
     "data": {
      "text/plain": [
       "0"
      ]
     },
     "execution_count": 12,
     "metadata": {},
     "output_type": "execute_result"
    }
   ],
   "source": [
    "NAND(1,1)"
   ]
  },
  {
   "cell_type": "code",
   "execution_count": 13,
   "id": "0b768097-6edf-4439-bfb0-ce4ec3027e2d",
   "metadata": {},
   "outputs": [],
   "source": [
    "def OR(x1,x2):\n",
    "    x = np.array([x1,x2])\n",
    "    w = np.array([0.5,0.5])\n",
    "    b = -0.3\n",
    "    y = np.sum(x*w) + b\n",
    "    if y >= 0:\n",
    "        return 1\n",
    "    else:\n",
    "        return 0"
   ]
  },
  {
   "cell_type": "code",
   "execution_count": 14,
   "id": "25e21650-864a-476a-a872-98442bf0b45c",
   "metadata": {},
   "outputs": [
    {
     "data": {
      "text/plain": [
       "0"
      ]
     },
     "execution_count": 14,
     "metadata": {},
     "output_type": "execute_result"
    }
   ],
   "source": [
    "OR(0,0)"
   ]
  },
  {
   "cell_type": "code",
   "execution_count": 15,
   "id": "7823792c-be10-4fc9-8df1-e09baaccc0a7",
   "metadata": {},
   "outputs": [
    {
     "data": {
      "text/plain": [
       "1"
      ]
     },
     "execution_count": 15,
     "metadata": {},
     "output_type": "execute_result"
    }
   ],
   "source": [
    "OR(1,0)"
   ]
  },
  {
   "cell_type": "code",
   "execution_count": 16,
   "id": "44428542-723f-42c1-93b3-16e1b2efee68",
   "metadata": {},
   "outputs": [
    {
     "data": {
      "text/plain": [
       "1"
      ]
     },
     "execution_count": 16,
     "metadata": {},
     "output_type": "execute_result"
    }
   ],
   "source": [
    "OR(0,1)"
   ]
  },
  {
   "cell_type": "code",
   "execution_count": 17,
   "id": "8489604a-9305-4ef3-855d-7825a58caf05",
   "metadata": {},
   "outputs": [
    {
     "data": {
      "text/plain": [
       "1"
      ]
     },
     "execution_count": 17,
     "metadata": {},
     "output_type": "execute_result"
    }
   ],
   "source": [
    "OR(1,1)"
   ]
  },
  {
   "cell_type": "markdown",
   "id": "0108aa69-1df0-4400-be89-20f981538de7",
   "metadata": {},
   "source": [
    "2.上記で実装した関数の組み合わせにより，XOR回路を実装し，真理値表通り，出力されるか確認して下さい．\n",
    "関数名は，XOR(x1, x2)として，，1か０を引数に取れるようにして下さい．"
   ]
  },
  {
   "cell_type": "code",
   "execution_count": 18,
   "id": "b87daa83-724a-46ce-aac6-89472d6e8a47",
   "metadata": {},
   "outputs": [],
   "source": [
    "def XOR(x1,x2):\n",
    "    s1 = OR(x1,x2)\n",
    "    s2 = NAND(x1,x2)\n",
    "    y = AND(s1,s2)\n",
    "    return y"
   ]
  },
  {
   "cell_type": "code",
   "execution_count": 19,
   "id": "7f0f5892-2c85-42e2-8467-58df2fef30e7",
   "metadata": {},
   "outputs": [
    {
     "data": {
      "text/plain": [
       "0"
      ]
     },
     "execution_count": 19,
     "metadata": {},
     "output_type": "execute_result"
    }
   ],
   "source": [
    "XOR(0,0)"
   ]
  },
  {
   "cell_type": "code",
   "execution_count": 20,
   "id": "d01dc465-8d2d-47d8-80d7-836eef8ce745",
   "metadata": {},
   "outputs": [
    {
     "data": {
      "text/plain": [
       "1"
      ]
     },
     "execution_count": 20,
     "metadata": {},
     "output_type": "execute_result"
    }
   ],
   "source": [
    "XOR(1,0)"
   ]
  },
  {
   "cell_type": "code",
   "execution_count": 21,
   "id": "563cbc9e-c1ea-4bc6-a0c3-8df2319c294b",
   "metadata": {},
   "outputs": [
    {
     "data": {
      "text/plain": [
       "1"
      ]
     },
     "execution_count": 21,
     "metadata": {},
     "output_type": "execute_result"
    }
   ],
   "source": [
    "XOR(0,1)"
   ]
  },
  {
   "cell_type": "code",
   "execution_count": 22,
   "id": "ce72210a-231a-4af8-98e9-45e502a7260d",
   "metadata": {},
   "outputs": [
    {
     "data": {
      "text/plain": [
       "0"
      ]
     },
     "execution_count": 22,
     "metadata": {},
     "output_type": "execute_result"
    }
   ],
   "source": [
    "XOR(1,1)"
   ]
  },
  {
   "cell_type": "markdown",
   "id": "6caf520c-fb24-486b-b036-55d9f5c01a56",
   "metadata": {},
   "source": [
    "3. 活性化関数であるSigmoid関数とSoftmax関数をpythonで実装して下さい．\n",
    "    Sigmoid関数は次の課題でそのまま使用するので、Numpyを入力としてください"
   ]
  },
  {
   "cell_type": "code",
   "execution_count": 23,
   "id": "971eeb44-30e9-4c66-8ddd-e99397be9de1",
   "metadata": {},
   "outputs": [],
   "source": [
    "def sigmoid(x):\n",
    "    return 1/(1+np.exp(-x)) #numpyのブロードキャストによりnumpy配列に対応"
   ]
  },
  {
   "cell_type": "code",
   "execution_count": 24,
   "id": "15b6da10-d23e-43bc-ac1b-a2b60cc0ce75",
   "metadata": {},
   "outputs": [],
   "source": [
    "def softmax(a):\n",
    "    c = np.max(a)#Overflow対策\n",
    "    exp_a = np.exp(a)\n",
    "    sum_exp_a = np.sum(exp_a)\n",
    "    y = exp_a/sum_exp_a\n",
    "    return y"
   ]
  },
  {
   "cell_type": "markdown",
   "id": "60a6a72b-eb8e-463d-9b65-59aa1c209504",
   "metadata": {},
   "source": [
    "4. 3層マルチパーセプトロンによるNNの実装を行い、出力が正しいか確認してください．\n",
    "    下記のサンプルコードにおけるforward部分を実装してみてください. 中間層の活性化関数にはSigmoid関数、出力層の関数にはSoftmax関数を使ってください。"
   ]
  },
  {
   "cell_type": "code",
   "execution_count": 25,
   "id": "d0d12304-7b55-4267-85a1-fb9d54092124",
   "metadata": {},
   "outputs": [
    {
     "name": "stdout",
     "output_type": "stream",
     "text": [
      "[[0.40625907 0.59374093]]\n"
     ]
    }
   ],
   "source": [
    "def init_network():\n",
    "    network={}\n",
    "    network['W1'] = np.array([[0.1, 0.3, 0.5], [0.2, 0.4, 0.6]])\n",
    "    network['b1'] = np.array([[0.1, 0.2, 0.3]])\n",
    "    network['W2'] = np.array([[0.1, 0.4], [0.2, 0.5], [0.3, 0.6]])\n",
    "    network['b2'] = np.array([[0.1, 0.2]])\n",
    "    network['W3'] = np.array([[0.1, 0.3], [0.2, 0.4]])\n",
    "    network['b3'] = np.array([[0.1, 0.2]])\n",
    "    return network\n",
    "def forward(network, x):\n",
    "    # layer 1\n",
    "    W1=network['W1']\n",
    "    b1=network['b1']\n",
    "    a1=np.dot(x,W1)+b1\n",
    "    z1=sigmoid(a1)\n",
    "    # layer2 layer3を実装してみてください\n",
    "    #Layer2\n",
    "    W2=network['W2']\n",
    "    b2=network['b2']\n",
    "    a2=np.dot(z1,W2)+b2\n",
    "    z2=sigmoid(a2)\n",
    "    #Layer3\n",
    "    W3=network['W3']\n",
    "    b3=network['b3']\n",
    "    a3=np.dot(z2,W3)+b3\n",
    "    y = softmax(a3)\n",
    "    return y\n",
    "\n",
    "network = init_network()\n",
    "x=np.array([1.0,0.5])\n",
    "y=forward(network,x)\n",
    "print(y) #[0.40625907, 0.59374093]"
   ]
  },
  {
   "cell_type": "markdown",
   "id": "32fdafea-fc3e-4f29-bf37-4c5324f658ec",
   "metadata": {},
   "source": [
    "5. バッチ処理の行い方についてサンプルコードを実行し、扱い方のイメージを掴んでください．\n",
    "    複数の入力を逐次的に処理します"
   ]
  },
  {
   "cell_type": "code",
   "execution_count": 26,
   "id": "b976d5ec-5193-472c-81fa-2dd719dfeda5",
   "metadata": {},
   "outputs": [],
   "source": [
    "import numpy as np\n",
    "import random  \n",
    "network = init_network()\n",
    "batch_size = 16\n",
    "x=np.random.rand(1000,2)\n",
    "for i in range(0,len(x),batch_size):\n",
    "    x_batch = x[i:i+batch_size]\n",
    "    y_batch = forward(network,x_batch)"
   ]
  },
  {
   "cell_type": "markdown",
   "id": "7c21f3ae-fa24-4d41-a04a-29965175e4cc",
   "metadata": {},
   "source": [
    "感想\n",
    "\n",
    "AND,ORなどは論理設計学で学んだ内容と共通点があり理解がしやすかったと感じた。ニューラルネットワークは入力、重み、バイアスとそれを活性化関数で出力に変換して...という動きを繰り返して。シグモイド関数やReLu関数など用いる活性化関数の違いがどんな影響を与えるかについて調べてみたいと感じました。"
   ]
  },
  {
   "cell_type": "markdown",
   "id": "8072fc1d-de5d-4dda-ba8b-353361464fce",
   "metadata": {},
   "source": [
    "参考文献\n",
    "\n",
    "斎藤 康毅,ゼロから作るDeep Learning―Pythonで学ぶディープラーニングの理論と実装,2016年09月,オライリージャパン,https://www.oreilly.co.jp/books/9784873117584/"
   ]
  },
  {
   "cell_type": "code",
   "execution_count": null,
   "id": "49a37e2a-bb61-415e-ba12-74b1dadb0645",
   "metadata": {},
   "outputs": [],
   "source": []
  }
 ],
 "metadata": {
  "kernelspec": {
   "display_name": "Python 3 (ipykernel)",
   "language": "python",
   "name": "python3"
  },
  "language_info": {
   "codemirror_mode": {
    "name": "ipython",
    "version": 3
   },
   "file_extension": ".py",
   "mimetype": "text/x-python",
   "name": "python",
   "nbconvert_exporter": "python",
   "pygments_lexer": "ipython3",
   "version": "3.9.13"
  }
 },
 "nbformat": 4,
 "nbformat_minor": 5
}
